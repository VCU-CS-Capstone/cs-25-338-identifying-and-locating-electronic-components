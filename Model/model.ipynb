{
 "cells": [
  {
   "cell_type": "code",
   "execution_count": 3,
   "metadata": {},
   "outputs": [],
   "source": [
    "import torch\n",
    "import torch.nn as nn #related to neural networks\n",
    "import torch.optim as optim #optimizer\n",
    "from torch.utils.data import DataLoader, Dataset\n",
    "import torchvision\n",
    "import os\n",
    "import pandas as pd\n",
    "from torchvision.io import read_image\n",
    "from torchvision import transforms, models\n",
    "import matplotlib.pyplot as plt\n",
    "from torch.optim.lr_scheduler import StepLR\n",
    "import numpy as np\n",
    "import sys\n",
    "import timm\n",
    "import tqdm\n",
    "from PIL import Image\n",
    "import json\n",
    "from pycocotools.coco import COCO\n",
    "\n",
    "import matplotlib.patches as patches\n",
    "import cv2\n"
   ]
  },
  {
   "cell_type": "code",
   "execution_count": 4,
   "metadata": {},
   "outputs": [
    {
     "name": "stdout",
     "output_type": "stream",
     "text": [
      "mps\n"
     ]
    }
   ],
   "source": [
    "device = torch.device(\"cpu\")\n",
    "if torch.cuda.is_available():\n",
    "    device = torch.device(\"cuda\")\n",
    "if torch.backends.mps.is_available():\n",
    "    device = torch.device(\"mps\")\n",
    "print(device)"
   ]
  },
  {
   "cell_type": "code",
   "execution_count": 3,
   "metadata": {},
   "outputs": [],
   "source": [
    "import yaml\n",
    "def get_labels(yaml_file_path):\n",
    "    with open(yaml_file_path, \"r\") as file:\n",
    "        yaml_content = yaml.safe_load(file)\n",
    "    return yaml_content.get(\"names\", [])"
   ]
  },
  {
   "cell_type": "code",
   "execution_count": 4,
   "metadata": {},
   "outputs": [
    {
     "name": "stdout",
     "output_type": "stream",
     "text": [
      "loading annotations into memory...\n",
      "Done (t=0.00s)\n",
      "creating index...\n",
      "index created!\n",
      "Number of images: 160\n",
      "Number of annotations: 201\n",
      "Number of categories: 40\n",
      "Image: {'file_name': 'Screenshot 2024-10-11 174314.png', 'height': 804, 'width': 811, 'id': 150}\n",
      "[{'id': 191, 'image_id': 150, 'category_id': 38, 'area': 112050.0, 'iscrowd': 0, 'segmentation': [[92, 305, 507, 305, 507, 575, 92, 575]], 'bbox': [92, 305, 415, 270]}]\n",
      "[[92, 305, 415, 270]]\n",
      "Label: WAVETRAP_NOPOT\n"
     ]
    },
    {
     "data": {
      "image/png": "[encoded data removed]",
      "text/plain": [
       "<Figure size 1200x800 with 1 Axes>"
      ]
     },
     "metadata": {},
     "output_type": "display_data"
    }
   ],
   "source": [
    "with open(\"annotations.json\", \"r\") as file:\n",
    "    coco_data = json.load(file)\n",
    "coco = COCO(\"annotations.json\")\n",
    "print(f\"Number of images: {len(coco_data['images'])}\")\n",
    "print(f\"Number of annotations: {len(coco_data['annotations'])}\")\n",
    "print(f\"Number of categories: {len(coco_data['categories'])}\")\n",
    "\n",
    "x = 150\n",
    "# Load a specific image by ID\n",
    "image = coco.loadImgs(x)[0]\n",
    "print(f\"Image: {image}\")\n",
    "\n",
    "annotations = coco.loadAnns(coco.getAnnIds(imgIds=x))\n",
    "print(annotations)\n",
    "bounding_boxes = [ann['bbox'] for ann in annotations]\n",
    "print(bounding_boxes)\n",
    "label = coco.loadCats([annotations[0]['category_id']][0])[0]['name']\n",
    "print(f\"Label: {label}\")\n",
    "\n",
    "# Load the image\n",
    "image_path = \"images/\" + image['file_name']\n",
    "image = cv2.imread(image_path)\n",
    "image = cv2.cvtColor(image, cv2.COLOR_BGR2RGB)\n",
    "\n",
    "# Plot the image\n",
    "fig, ax = plt.subplots(1, figsize=(12, 8))\n",
    "ax.imshow(image)\n",
    "\n",
    "# Add bounding boxes\n",
    "for ann in annotations:\n",
    "    bbox = ann['bbox']  # [x, y, width, height]\n",
    "    rect = patches.Rectangle(\n",
    "        (bbox[0], bbox[1]),\n",
    "        bbox[2],\n",
    "        bbox[3],\n",
    "        linewidth=2,\n",
    "        edgecolor='red',\n",
    "        facecolor='none'\n",
    "    )\n",
    "    ax.add_patch(rect)\n",
    "\n",
    "plt.show()\n"
   ]
  },
  {
   "cell_type": "markdown",
   "metadata": {},
   "source": [
    "# Create Circuit Diagram Dataset"
   ]
  },
  {
   "cell_type": "code",
   "execution_count": 5,
   "metadata": {},
   "outputs": [],
   "source": [
    "class CircuitDiagramDataset(Dataset):\n",
    "    def __init__(self, image_path, transform=None):\n",
    "        self.ann_dir = os.path.join('annotations.json')\n",
    "        self.image_dir = image_path\n",
    "        self.transform = transform        \n",
    "        self.coco = COCO(\"annotations.json\")\n",
    "    \n",
    "    def __len__(self):\n",
    "        return len(self.coco.getImgIds())\n",
    "    \n",
    "    def __getitem__(self, idx):\n",
    "        img_path = os.path.join(self.image_dir, self.coco.loadImgs(idx)[0]['file_name'])\n",
    "        \n",
    "        # Load the image using PIL\n",
    "        image = Image.open(img_path).convert(\"RGB\")\n",
    "        image_id = self.coco.loadImgs(idx)[0]['id']\n",
    "        \n",
    "        # Get annotation IDs for the image\n",
    "        ann_ids = self.coco.getAnnIds(imgIds=idx)\n",
    "        annotations = self.coco.loadAnns(ann_ids)\n",
    "        \n",
    "        # Prepare the annotations (usually bounding boxes and category labels)\n",
    "        boxes = []\n",
    "        labels = []\n",
    "        for ann in annotations:\n",
    "            bbox = ann['bbox']  # [x, y, width, height]\n",
    "            bbox[2] += bbox[0]  # x + width\n",
    "            bbox[3] += bbox[1]  # y + height\n",
    "            category_id = ann['category_id']\n",
    "            boxes.append(bbox)\n",
    "            labels.append(category_id)\n",
    "        \n",
    "        # Convert boxes and labels to tensors\n",
    "        boxes = torch.tensor(boxes, dtype=torch.float32)\n",
    "        labels = torch.tensor(labels, dtype=torch.int64)\n",
    "        \n",
    "        # Apply the transformations (if any)\n",
    "        if self.transform:\n",
    "            image = self.transform(image)\n",
    "        \n",
    "        original_width, original_height = self.coco.loadImgs(idx)[0]['width'], self.coco.loadImgs(idx)[0]['height']\n",
    "        scale_x = 224 / original_width\n",
    "        scale_y = 224 / original_height\n",
    "        for i in range(len(boxes)):\n",
    "            boxes[i][0] *= scale_x  # x\n",
    "            boxes[i][1] *= scale_y  # y\n",
    "            boxes[i][2] *= scale_x  # width\n",
    "            boxes[i][3] *= scale_y  # height\n",
    "        \n",
    "        # Create a target dictionary\n",
    "        target = {\n",
    "            \"boxes\": boxes,\n",
    "            \"labels\": labels,\n",
    "            \"image_id\": torch.tensor([image_id])\n",
    "        }\n",
    "        \n",
    "        # Return the image along with the bounding boxes and labels\n",
    "        return image, target\n",
    "    \n",
    "    \n",
    "    "
   ]
  },
  {
   "cell_type": "code",
   "execution_count": 6,
   "metadata": {},
   "outputs": [],
   "source": [
    "def plot_image_with_boxes(image, boxes):\n",
    "    # Convert image tensor to a numpy array (from [C, H, W] to [H, W, C] and denormalize if necessary)\n",
    "    image = image.permute(1, 2, 0).numpy()\n",
    "    image = (image * 255).astype(\"uint8\")  # Denormalize if the image was normalized earlier\n",
    "    \n",
    "    # Create a figure and axis\n",
    "    fig, ax = plt.subplots(1, figsize=(10, 8))\n",
    "    \n",
    "    # Display the image\n",
    "    ax.imshow(image)\n",
    "    \n",
    "    # Add bounding boxes\n",
    "    for box in boxes:\n",
    "        xmin, ymin, xmax, ymax = map(int, box)\n",
    "        rect = patches.Rectangle(\n",
    "            (xmin, ymin),  # Starting point (x, y)\n",
    "            xmax - xmin,   # Width\n",
    "            ymax - ymin,   # Height\n",
    "            linewidth=2,\n",
    "            edgecolor='r',\n",
    "            facecolor='none'\n",
    "        )\n",
    "        ax.add_patch(rect)\n",
    "    \n",
    "    # Show the plot\n",
    "    plt.show()\n",
    "    "
   ]
  },
  {
   "cell_type": "code",
   "execution_count": 7,
   "metadata": {},
   "outputs": [
    {
     "name": "stdout",
     "output_type": "stream",
     "text": [
      "loading annotations into memory...\n",
      "Done (t=0.00s)\n",
      "creating index...\n",
      "index created!\n",
      "Image directory: 160\n",
      "Image shape: torch.Size([3, 224, 224])\n",
      "Boxes: tensor([[104.1983,  84.8900, 119.2727,  99.1296]])\n",
      "Labels: CAP\n"
     ]
    },
    {
     "data": {
      "image/png": "[encoded data removed]",
      "text/plain": [
       "<Figure size 1000x800 with 1 Axes>"
      ]
     },
     "metadata": {},
     "output_type": "display_data"
    }
   ],
   "source": [
    "transform = transforms.Compose([\n",
    "    transforms.Resize((224, 224)),\n",
    "    transforms.ToTensor(),\n",
    "])\n",
    "\n",
    "test = CircuitDiagramDataset(    \n",
    "    image_path=\"images\",\n",
    "    transform=transform)\n",
    "\n",
    "image, target = test[41]\n",
    "boxes = target[\"boxes\"]\n",
    "labels = target[\"labels\"]\n",
    "print(f\"Image directory: {len(test.coco.getImgIds())}\")\n",
    "print(f\"Image shape: {image.shape}\")\n",
    "print(f\"Boxes: {boxes}\")    \n",
    "print(f\"Labels: {test.coco.loadCats(labels.numpy())[0]['name']}\")\n",
    "plot_image_with_boxes(image, boxes)"
   ]
  },
  {
   "cell_type": "code",
   "execution_count": 8,
   "metadata": {},
   "outputs": [
    {
     "name": "stdout",
     "output_type": "stream",
     "text": [
      "loading annotations into memory...\n",
      "Done (t=0.00s)\n",
      "creating index...\n",
      "index created!\n"
     ]
    }
   ],
   "source": [
    "transform = transforms.Compose([\n",
    "    transforms.Resize((224, 224)),\n",
    "    transforms.ToTensor(),\n",
    "])\n",
    "\n",
    "train = CircuitDiagramDataset(    \n",
    "    image_path=\"images\",\n",
    "    transform=transform)\n",
    "\n",
    "def collate_fn(batch):\n",
    "    images, targets = zip(*batch)\n",
    "    return list(images), list(targets)\n",
    "\n",
    "train_dataloader = DataLoader(train, batch_size=4, shuffle=True, collate_fn=collate_fn)"
   ]
  },
  {
   "cell_type": "markdown",
   "metadata": {},
   "source": [
    "# Defining Model"
   ]
  },
  {
   "cell_type": "code",
   "execution_count": 9,
   "metadata": {},
   "outputs": [],
   "source": [
    "from torchvision.models.detection.faster_rcnn import FastRCNNPredictor\n",
    "\n",
    "def get_model(num_classes=40):\n",
    "    # Where we define all the parts of the model\n",
    "    model = torchvision.models.detection.fasterrcnn_resnet50_fpn(weights='DEFAULT')\n",
    "    in_features = model.roi_heads.box_predictor.cls_score.in_features\n",
    "    model.roi_heads.box_predictor = FastRCNNPredictor(in_features, num_classes)\n",
    "    return model"
   ]
  },
  {
   "cell_type": "code",
   "execution_count": 10,
   "metadata": {},
   "outputs": [],
   "source": [
    "from torchvision.transforms import v2 as T\n",
    "\n",
    "def get_transform(train):\n",
    "    transforms = []\n",
    "    if train:\n",
    "        transforms.append(T.RandomHorizontalFlip(0.5))\n",
    "    transforms.append(T.ToDtype(torch.float, scale=True))\n",
    "    transforms.append(T.ToPureTensor())\n",
    "    return T.Compose(transforms)"
   ]
  },
  {
   "cell_type": "markdown",
   "metadata": {},
   "source": [
    "# Training"
   ]
  },
  {
   "cell_type": "code",
   "execution_count": 5,
   "metadata": {},
   "outputs": [
    {
     "ename": "NameError",
     "evalue": "name 'get_model' is not defined",
     "output_type": "error",
     "traceback": [
      "\u001b[0;31m---------------------------------------------------------------------------\u001b[0m",
      "\u001b[0;31mNameError\u001b[0m                                 Traceback (most recent call last)",
      "Cell \u001b[0;32mIn[5], line 1\u001b[0m\n\u001b[0;32m----> 1\u001b[0m model \u001b[38;5;241m=\u001b[39m \u001b[43mget_model\u001b[49m(num_classes\u001b[38;5;241m=\u001b[39m\u001b[38;5;241m41\u001b[39m)\n\u001b[1;32m      2\u001b[0m model\u001b[38;5;241m.\u001b[39mto(device)\n\u001b[1;32m      3\u001b[0m \u001b[38;5;28;01mdef\u001b[39;00m\u001b[38;5;250m \u001b[39m\u001b[38;5;21mtrain_one_epoch\u001b[39m(model, optimizer, data_loader, device, epoch):\n",
      "\u001b[0;31mNameError\u001b[0m: name 'get_model' is not defined"
     ]
    }
   ],
   "source": [
    "model = get_model(num_classes=41)\n",
    "model.to(device)\n",
    "def train_one_epoch(model, optimizer, data_loader, device, epoch):\n",
    "    model.train()\n",
    "    total_loss = 0.0\n",
    "\n",
    "    for images, targets in tqdm.tqdm(data_loader, desc=f\"Epoch {epoch}\"):\n",
    "        # Ensure valid images and targets\n",
    "        valid_samples = []\n",
    "        for image, target in zip(images, targets):\n",
    "            if target[\"image_id\"].item() == 0:  # Skip image_id=0\n",
    "                continue\n",
    "            valid_samples.append((image, target))\n",
    "\n",
    "        # Skip if no valid samples\n",
    "        if not valid_samples:\n",
    "            continue\n",
    "\n",
    "        # Separate valid images and targets\n",
    "        images = [sample[0].to(device) for sample in valid_samples]\n",
    "        targets = [{k: v.to(device) for k, v in sample[1].items()} for sample in valid_samples]\n",
    "\n",
    "        try:\n",
    "            # Forward pass\n",
    "            loss_dict = model(images, targets)\n",
    "            losses = sum(loss for loss in loss_dict.values())\n",
    "\n",
    "            # Backward pass and optimization\n",
    "            optimizer.zero_grad()\n",
    "            losses.backward()\n",
    "            optimizer.step()\n",
    "\n",
    "            total_loss += losses.item()\n",
    "\n",
    "        except Exception as e:\n",
    "            print(f\"Error in processing batch: {e}\")\n",
    "            continue\n",
    "\n",
    "    avg_loss = total_loss / len(data_loader)\n",
    "    print(f\"Epoch {epoch} - Average Loss: {avg_loss:.4f}\")\n",
    "\n",
    "# Define optimizer and learning rate scheduler\n",
    "optimizer = optim.SGD(model.parameters(), lr=0.005, momentum=0.9, weight_decay=0.0005)\n",
    "lr_scheduler = StepLR(optimizer, step_size=3, gamma=0.1)\n",
    "\n",
    "# Train the model for a few epochs\n",
    "num_epochs = 1\n",
    "for epoch in range(num_epochs):\n",
    "    train_one_epoch(model, optimizer, train_dataloader, device, epoch)\n",
    "    lr_scheduler.step()"
   ]
  },
  {
   "cell_type": "code",
   "execution_count": 5,
   "metadata": {},
   "outputs": [
    {
     "name": "stdout",
     "output_type": "stream",
     "text": [
      "New https://pypi.org/project/ultralytics/8.3.68 available 😃 Update with 'pip install -U ultralytics'\n",
      "\u001b[34m\u001b[1mengine/trainer: \u001b[0mtask=detect, mode=train, model=yolov8n.pt, data=./data.yaml, epochs=10, time=None, patience=100, batch=16, imgsz=640, save=True, save_period=-1, cache=False, device=mps, workers=8, project=None, name=train9, exist_ok=False, pretrained=True, optimizer=auto, verbose=True, seed=0, deterministic=True, single_cls=False, rect=False, cos_lr=False, close_mosaic=10, resume=False, amp=True, fraction=1.0, profile=False, freeze=None, multi_scale=False, overlap_mask=True, mask_ratio=4, dropout=0.0, val=True, split=val, save_json=False, save_hybrid=False, conf=None, iou=0.7, max_det=300, half=False, dnn=False, plots=True, source=None, vid_stride=1, stream_buffer=False, visualize=False, augment=False, agnostic_nms=False, classes=None, retina_masks=False, embed=None, show=False, save_frames=False, save_txt=False, save_conf=False, save_crop=False, show_labels=True, show_conf=True, show_boxes=True, line_width=None, format=torchscript, keras=False, optimize=False, int8=False, dynamic=False, simplify=True, opset=None, workspace=4, nms=False, lr0=0.01, lrf=0.01, momentum=0.937, weight_decay=0.0005, warmup_epochs=3.0, warmup_momentum=0.8, warmup_bias_lr=0.1, box=7.5, cls=0.5, dfl=1.5, pose=12.0, kobj=1.0, label_smoothing=0.0, nbs=64, hsv_h=0.015, hsv_s=0.7, hsv_v=0.4, degrees=0.0, translate=0.1, scale=0.5, shear=0.0, perspective=0.0, flipud=0.0, fliplr=0.5, bgr=0.0, mosaic=1.0, mixup=0.0, copy_paste=0.0, copy_paste_mode=flip, auto_augment=randaugment, erasing=0.4, crop_fraction=1.0, cfg=None, tracker=botsort.yaml, save_dir=/Users/enerinn/Developer/CS25-338-main/runs/detect/train9\n",
      "Overriding model.yaml nc=80 with nc=40\n",
      "\n",
      "                   from  n    params  module                                       arguments                     \n",
      "  0                  -1  1       464  ultralytics.nn.modules.conv.Conv             [3, 16, 3, 2]                 \n",
      "  1                  -1  1      4672  ultralytics.nn.modules.conv.Conv             [16, 32, 3, 2]                \n",
      "  2                  -1  1      7360  ultralytics.nn.modules.block.C2f             [32, 32, 1, True]             \n",
      "  3                  -1  1     18560  ultralytics.nn.modules.conv.Conv             [32, 64, 3, 2]                \n",
      "  4                  -1  2     49664  ultralytics.nn.modules.block.C2f             [64, 64, 2, True]             \n",
      "  5                  -1  1     73984  ultralytics.nn.modules.conv.Conv             [64, 128, 3, 2]               \n",
      "  6                  -1  2    197632  ultralytics.nn.modules.block.C2f             [128, 128, 2, True]           \n",
      "  7                  -1  1    295424  ultralytics.nn.modules.conv.Conv             [128, 256, 3, 2]              \n",
      "  8                  -1  1    460288  ultralytics.nn.modules.block.C2f             [256, 256, 1, True]           \n",
      "  9                  -1  1    164608  ultralytics.nn.modules.block.SPPF            [256, 256, 5]                 \n",
      " 10                  -1  1         0  torch.nn.modules.upsampling.Upsample         [None, 2, 'nearest']          \n",
      " 11             [-1, 6]  1         0  ultralytics.nn.modules.conv.Concat           [1]                           \n",
      " 12                  -1  1    148224  ultralytics.nn.modules.block.C2f             [384, 128, 1]                 \n",
      " 13                  -1  1         0  torch.nn.modules.upsampling.Upsample         [None, 2, 'nearest']          \n",
      " 14             [-1, 4]  1         0  ultralytics.nn.modules.conv.Concat           [1]                           \n",
      " 15                  -1  1     37248  ultralytics.nn.modules.block.C2f             [192, 64, 1]                  \n",
      " 16                  -1  1     36992  ultralytics.nn.modules.conv.Conv             [64, 64, 3, 2]                \n",
      " 17            [-1, 12]  1         0  ultralytics.nn.modules.conv.Concat           [1]                           \n",
      " 18                  -1  1    123648  ultralytics.nn.modules.block.C2f             [192, 128, 1]                 \n",
      " 19                  -1  1    147712  ultralytics.nn.modules.conv.Conv             [128, 128, 3, 2]              \n",
      " 20             [-1, 9]  1         0  ultralytics.nn.modules.conv.Concat           [1]                           \n",
      " 21                  -1  1    493056  ultralytics.nn.modules.block.C2f             [384, 256, 1]                 \n",
      " 22        [15, 18, 21]  1    759112  ultralytics.nn.modules.head.Detect           [40, [64, 128, 256]]          \n",
      "Model summary: 225 layers, 3,018,648 parameters, 3,018,632 gradients, 8.2 GFLOPs\n",
      "\n",
      "Transferred 319/355 items from pretrained weights\n",
      "Freezing layer 'model.22.dfl.conv.weight'\n"
     ]
    },
    {
     "name": "stderr",
     "output_type": "stream",
     "text": [
      "\u001b[34m\u001b[1mtrain: \u001b[0mScanning /Users/enerinn/Developer/CS25-338-main/Model/labels/train.cache... 160 images, 0 backgrounds, 0 corrupt: 100%|██████████| 160/160 [00:00<?, ?it/s]\n",
      "\u001b[34m\u001b[1mval: \u001b[0mScanning /Users/enerinn/Developer/CS25-338-main/Model/labels/val.cache... 40 images, 0 backgrounds, 0 corrupt: 100%|██████████| 40/40 [00:00<?, ?it/s]\n"
     ]
    },
    {
     "name": "stdout",
     "output_type": "stream",
     "text": [
      "Plotting labels to /Users/enerinn/Developer/CS25-338-main/runs/detect/train9/labels.jpg... \n",
      "\u001b[34m\u001b[1moptimizer:\u001b[0m 'optimizer=auto' found, ignoring 'lr0=0.01' and 'momentum=0.937' and determining best 'optimizer', 'lr0' and 'momentum' automatically... \n",
      "\u001b[34m\u001b[1moptimizer:\u001b[0m AdamW(lr=0.000227, momentum=0.9) with parameter groups 57 weight(decay=0.0), 64 weight(decay=0.0005), 63 bias(decay=0.0)\n",
      "Image sizes 640 train, 640 val\n",
      "Using 0 dataloader workers\n",
      "Logging results to \u001b[1m/Users/enerinn/Developer/CS25-338-main/runs/detect/train9\u001b[0m\n",
      "Starting training for 10 epochs...\n",
      "Closing dataloader mosaic\n",
      "\n",
      "      Epoch    GPU_mem   box_loss   cls_loss   dfl_loss  Instances       Size\n"
     ]
    },
    {
     "name": "stderr",
     "output_type": "stream",
     "text": [
      "       1/10      4.58G      2.459      7.063      1.732         20        640: 100%|██████████| 10/10 [00:25<00:00,  2.50s/it]\n",
      "                 Class     Images  Instances      Box(P          R      mAP50  mAP50-95): 100%|██████████| 2/2 [00:06<00:00,  3.33s/it]"
     ]
    },
    {
     "name": "stdout",
     "output_type": "stream",
     "text": [
      "                   all         40         56          0          0          0          0\n"
     ]
    },
    {
     "name": "stderr",
     "output_type": "stream",
     "text": [
      "\n"
     ]
    },
    {
     "name": "stdout",
     "output_type": "stream",
     "text": [
      "\n",
      "      Epoch    GPU_mem   box_loss   cls_loss   dfl_loss  Instances       Size\n"
     ]
    },
    {
     "name": "stderr",
     "output_type": "stream",
     "text": [
      "       2/10      4.62G      1.971      6.409      1.463         19        640: 100%|██████████| 10/10 [00:10<00:00,  1.03s/it]\n",
      "                 Class     Images  Instances      Box(P          R      mAP50  mAP50-95): 100%|██████████| 2/2 [00:01<00:00,  1.50it/s]"
     ]
    },
    {
     "name": "stdout",
     "output_type": "stream",
     "text": [
      "                   all         40         56          0          0          0          0\n"
     ]
    },
    {
     "name": "stderr",
     "output_type": "stream",
     "text": [
      "\n"
     ]
    },
    {
     "name": "stdout",
     "output_type": "stream",
     "text": [
      "\n",
      "      Epoch    GPU_mem   box_loss   cls_loss   dfl_loss  Instances       Size\n"
     ]
    },
    {
     "name": "stderr",
     "output_type": "stream",
     "text": [
      "       3/10      4.64G      1.661      6.022      1.335         18        640: 100%|██████████| 10/10 [00:09<00:00,  1.02it/s]\n",
      "                 Class     Images  Instances      Box(P          R      mAP50  mAP50-95): 100%|██████████| 2/2 [00:01<00:00,  1.54it/s]"
     ]
    },
    {
     "name": "stdout",
     "output_type": "stream",
     "text": [
      "                   all         40         56          0          0          0          0\n"
     ]
    },
    {
     "name": "stderr",
     "output_type": "stream",
     "text": [
      "\n"
     ]
    },
    {
     "name": "stdout",
     "output_type": "stream",
     "text": [
      "\n",
      "      Epoch    GPU_mem   box_loss   cls_loss   dfl_loss  Instances       Size\n"
     ]
    },
    {
     "name": "stderr",
     "output_type": "stream",
     "text": [
      "       4/10      4.64G      1.599      5.882      1.287         21        640: 100%|██████████| 10/10 [00:09<00:00,  1.01it/s]\n",
      "                 Class     Images  Instances      Box(P          R      mAP50  mAP50-95): 100%|██████████| 2/2 [00:01<00:00,  1.55it/s]"
     ]
    },
    {
     "name": "stdout",
     "output_type": "stream",
     "text": [
      "                   all         40         56          0          0          0          0\n"
     ]
    },
    {
     "name": "stderr",
     "output_type": "stream",
     "text": [
      "\n"
     ]
    },
    {
     "name": "stdout",
     "output_type": "stream",
     "text": [
      "\n",
      "      Epoch    GPU_mem   box_loss   cls_loss   dfl_loss  Instances       Size\n"
     ]
    },
    {
     "name": "stderr",
     "output_type": "stream",
     "text": [
      "       5/10      4.65G      1.463      5.639      1.153         16        640: 100%|██████████| 10/10 [00:10<00:00,  1.02s/it]\n",
      "                 Class     Images  Instances      Box(P          R      mAP50  mAP50-95): 100%|██████████| 2/2 [00:01<00:00,  1.51it/s]"
     ]
    },
    {
     "name": "stdout",
     "output_type": "stream",
     "text": [
      "                   all         40         56          0          0          0          0\n"
     ]
    },
    {
     "name": "stderr",
     "output_type": "stream",
     "text": [
      "\n"
     ]
    },
    {
     "name": "stdout",
     "output_type": "stream",
     "text": [
      "\n",
      "      Epoch    GPU_mem   box_loss   cls_loss   dfl_loss  Instances       Size\n"
     ]
    },
    {
     "name": "stderr",
     "output_type": "stream",
     "text": [
      "       6/10      4.67G      1.382      5.428      1.112         19        640: 100%|██████████| 10/10 [00:09<00:00,  1.03it/s]\n",
      "                 Class     Images  Instances      Box(P          R      mAP50  mAP50-95): 100%|██████████| 2/2 [00:04<00:00,  2.12s/it]"
     ]
    },
    {
     "name": "stdout",
     "output_type": "stream",
     "text": [
      "                   all         40         56     0.0167       0.05     0.0498     0.0224\n"
     ]
    },
    {
     "name": "stderr",
     "output_type": "stream",
     "text": [
      "\n"
     ]
    },
    {
     "name": "stdout",
     "output_type": "stream",
     "text": [
      "\n",
      "      Epoch    GPU_mem   box_loss   cls_loss   dfl_loss  Instances       Size\n"
     ]
    },
    {
     "name": "stderr",
     "output_type": "stream",
     "text": [
      "       7/10      4.67G      1.352      5.265      1.094         16        640: 100%|██████████| 10/10 [00:09<00:00,  1.03it/s]\n",
      "                 Class     Images  Instances      Box(P          R      mAP50  mAP50-95): 100%|██████████| 2/2 [00:05<00:00,  2.93s/it]"
     ]
    },
    {
     "name": "stdout",
     "output_type": "stream",
     "text": [
      "                   all         40         56     0.0292      0.171     0.0726     0.0479\n"
     ]
    },
    {
     "name": "stderr",
     "output_type": "stream",
     "text": [
      "\n"
     ]
    },
    {
     "name": "stdout",
     "output_type": "stream",
     "text": [
      "\n",
      "      Epoch    GPU_mem   box_loss   cls_loss   dfl_loss  Instances       Size\n"
     ]
    },
    {
     "name": "stderr",
     "output_type": "stream",
     "text": [
      "       8/10      4.69G      1.327      5.142        1.1         18        640: 100%|██████████| 10/10 [00:09<00:00,  1.01it/s]\n",
      "                 Class     Images  Instances      Box(P          R      mAP50  mAP50-95): 100%|██████████| 2/2 [00:07<00:00,  3.69s/it]"
     ]
    },
    {
     "name": "stdout",
     "output_type": "stream",
     "text": [
      "                   all         40         56     0.0379      0.431      0.124     0.0878\n"
     ]
    },
    {
     "name": "stderr",
     "output_type": "stream",
     "text": [
      "\n"
     ]
    },
    {
     "name": "stdout",
     "output_type": "stream",
     "text": [
      "\n",
      "      Epoch    GPU_mem   box_loss   cls_loss   dfl_loss  Instances       Size\n"
     ]
    },
    {
     "name": "stderr",
     "output_type": "stream",
     "text": [
      "       9/10       4.7G      1.349      5.124      1.092         18        640: 100%|██████████| 10/10 [00:10<00:00,  1.04s/it]\n",
      "                 Class     Images  Instances      Box(P          R      mAP50  mAP50-95): 100%|██████████| 2/2 [00:07<00:00,  3.91s/it]"
     ]
    },
    {
     "name": "stdout",
     "output_type": "stream",
     "text": [
      "                   all         40         56     0.0295      0.598      0.148       0.11\n"
     ]
    },
    {
     "name": "stderr",
     "output_type": "stream",
     "text": [
      "\n"
     ]
    },
    {
     "name": "stdout",
     "output_type": "stream",
     "text": [
      "\n",
      "      Epoch    GPU_mem   box_loss   cls_loss   dfl_loss  Instances       Size\n"
     ]
    },
    {
     "name": "stderr",
     "output_type": "stream",
     "text": [
      "      10/10      4.74G      1.312      5.001       1.09         21        640: 100%|██████████| 10/10 [00:10<00:00,  1.06s/it]\n",
      "                 Class     Images  Instances      Box(P          R      mAP50  mAP50-95): 100%|██████████| 2/2 [00:09<00:00,  4.60s/it]"
     ]
    },
    {
     "name": "stdout",
     "output_type": "stream",
     "text": [
      "                   all         40         56     0.0313      0.775      0.203      0.155\n"
     ]
    },
    {
     "name": "stderr",
     "output_type": "stream",
     "text": [
      "\n"
     ]
    },
    {
     "name": "stdout",
     "output_type": "stream",
     "text": [
      "\n",
      "10 epochs completed in 0.046 hours.\n",
      "Optimizer stripped from /Users/enerinn/Developer/CS25-338-main/runs/detect/train9/weights/last.pt, 6.3MB\n",
      "Optimizer stripped from /Users/enerinn/Developer/CS25-338-main/runs/detect/train9/weights/best.pt, 6.3MB\n",
      "\n",
      "Validating /Users/enerinn/Developer/CS25-338-main/runs/detect/train9/weights/best.pt...\n",
      "Ultralytics 8.3.23 🚀 Python-3.12.6 torch-2.5.1 MPS (Apple M2)\n",
      "Model summary (fused): 168 layers, 3,013,448 parameters, 0 gradients, 8.1 GFLOPs\n"
     ]
    },
    {
     "name": "stderr",
     "output_type": "stream",
     "text": [
      "                 Class     Images  Instances      Box(P          R      mAP50  mAP50-95): 100%|██████████| 2/2 [00:08<00:00,  4.01s/it]\n"
     ]
    },
    {
     "name": "stdout",
     "output_type": "stream",
     "text": [
      "                   all         40         56     0.0319      0.775       0.19      0.145\n",
      "                  25FP          1          2     0.0417          1      0.297      0.263\n",
      "                  30FP          1          3       0.06          1     0.0654     0.0414\n",
      "                  35FP          1          3        0.3          1      0.863      0.657\n",
      "            38BRKR_ATT          1          2     0.0211          1     0.0836     0.0669\n",
      "                  40FP          1          4      0.103          1      0.141      0.113\n",
      "                  45FP          1          3     0.0612          1      0.332      0.299\n",
      "                50FPUP          1          1      0.012          1      0.249      0.199\n",
      "                 Arrow          1          1     0.0119          1     0.0231    0.00926\n",
      "              AUTOXFMR          1          1     0.0714          1      0.497      0.448\n",
      "              BRKR_ATT          1          1     0.0192          1     0.0829      0.058\n",
      "                   CAP          1          1    0.00943          1     0.0524     0.0314\n",
      "                 CKTSW          1          1     0.0132          1      0.142     0.0711\n",
      "                    CT          1          1     0.0154          1     0.0172     0.0103\n",
      "                CTASSY          1          1    0.00952          1      0.332      0.232\n",
      "                   DDE          1          1      0.012          1     0.0207     0.0166\n",
      "               DIPPOLE          1          1     0.0714          1      0.497      0.348\n",
      "                 FRGNP          1          4       0.08          1      0.393      0.338\n",
      "                FUCLSP          1          1          0          0          0          0\n",
      "               FUCOMGO          1          1     0.0238          1     0.0332     0.0199\n",
      "                   GEN          1          3     0.0429          1     0.0613     0.0464\n",
      "                  GEN1          1          1          0          0          0          0\n",
      "                 GNDSW          1          1     0.0233          1     0.0311     0.0249\n",
      "                  GOBS          1          1     0.0185          1      0.995      0.796\n",
      "                JUMPER          1          1          0          0          0          0\n",
      "                   LDE          1          1          0          0          0          0\n",
      "               LTERMLB          1          1          0          0          0          0\n",
      "              LTERMNLB          1          1     0.0133          1     0.0237     0.0118\n",
      "                  MOCS          1          1     0.0106          1     0.0995     0.0597\n",
      "                PTXFMR          1          1     0.0345          1     0.0369     0.0332\n",
      "                   REG          1          1     0.0132          1      0.497      0.448\n",
      "                   SBD          1          1          0          0          0          0\n",
      "                   SEC          1          1     0.0238          1     0.0829     0.0498\n",
      "                   SPD          1          1          0          0          0          0\n",
      "              STA_SERV          1          1     0.0179          1     0.0765     0.0689\n",
      "               SWFUCOM          1          1     0.0278          1     0.0553     0.0497\n",
      "                  TPGO          1          1          0          0          0          0\n",
      "              WAVETRAP          1          1     0.0167          1      0.332      0.265\n",
      "        WAVETRAP_NOPOT          1          1     0.0588          1      0.199      0.139\n",
      "          WAVETRAP_POT          1          1          0          0          0          0\n",
      "                  XFMR          1          1     0.0385          1      0.995      0.597\n",
      "Speed: 14.2ms preprocess, 24.6ms inference, 0.0ms loss, 77.6ms postprocess per image\n",
      "Results saved to \u001b[1m/Users/enerinn/Developer/CS25-338-main/runs/detect/train9\u001b[0m\n",
      "Ultralytics 8.3.23 🚀 Python-3.12.6 torch-2.5.1 MPS (Apple M2)\n",
      "Model summary (fused): 168 layers, 3,013,448 parameters, 0 gradients, 8.1 GFLOPs\n"
     ]
    },
    {
     "name": "stderr",
     "output_type": "stream",
     "text": [
      "\u001b[34m\u001b[1mval: \u001b[0mScanning /Users/enerinn/Developer/CS25-338-main/Model/labels/val.cache... 40 images, 0 backgrounds, 0 corrupt: 100%|██████████| 40/40 [00:00<?, ?it/s]\n",
      "                 Class     Images  Instances      Box(P          R      mAP50  mAP50-95): 100%|██████████| 3/3 [00:04<00:00,  1.61s/it]\n"
     ]
    },
    {
     "name": "stdout",
     "output_type": "stream",
     "text": [
      "                   all         40         56     0.0275      0.725      0.162      0.124\n",
      "                  25FP          1          2     0.0408          1      0.538      0.481\n",
      "                  30FP          1          3     0.0612          1     0.0609     0.0453\n",
      "                  35FP          1          3      0.231          1      0.789      0.599\n",
      "            38BRKR_ATT          1          2      0.022          1      0.082     0.0574\n",
      "                  40FP          1          4     0.0976          1      0.171      0.136\n",
      "                  45FP          1          3       0.06          1      0.336      0.302\n",
      "                50FPUP          1          1     0.0118          1      0.249      0.199\n",
      "                 Arrow          1          1     0.0127          1     0.0226    0.00905\n",
      "              AUTOXFMR          1          1     0.0714          1      0.497      0.448\n",
      "              BRKR_ATT          1          1     0.0196          1      0.111     0.0774\n",
      "                   CAP          1          1    0.00952          1     0.0498     0.0298\n",
      "                 CKTSW          1          1     0.0133          1      0.142     0.0711\n",
      "                    CT          1          1     0.0156          1     0.0181     0.0109\n",
      "                CTASSY          1          1     0.0098          1      0.199      0.139\n",
      "                   DDE          1          1     0.0123          1     0.0284     0.0199\n",
      "               DIPPOLE          1          1          0          0          0          0\n",
      "                 FRGNP          1          4     0.0816          1      0.413      0.342\n",
      "                FUCLSP          1          1          0          0          0          0\n",
      "               FUCOMGO          1          1     0.0238          1     0.0332     0.0199\n",
      "                   GEN          1          3     0.0417          1     0.0616     0.0466\n",
      "                  GEN1          1          1          0          0          0          0\n",
      "                 GNDSW          1          1     0.0217          1     0.0332     0.0265\n",
      "                  GOBS          1          1     0.0182          1      0.995      0.697\n",
      "                JUMPER          1          1          0          0          0          0\n",
      "                   LDE          1          1          0          0          0          0\n",
      "               LTERMLB          1          1          0          0          0          0\n",
      "              LTERMNLB          1          1     0.0141          1     0.0311     0.0155\n",
      "                  MOCS          1          1     0.0108          1      0.124     0.0746\n",
      "                PTXFMR          1          1          0          0          0          0\n",
      "                   REG          1          1     0.0141          1     0.0553     0.0442\n",
      "                   SBD          1          1          0          0          0          0\n",
      "                   SEC          1          1     0.0222          1     0.0765     0.0459\n",
      "                   SPD          1          1          0          0          0          0\n",
      "              STA_SERV          1          1     0.0175          1      0.111     0.0995\n",
      "               SWFUCOM          1          1     0.0312          1     0.0524     0.0471\n",
      "                  TPGO          1          1          0          0          0          0\n",
      "              WAVETRAP          1          1     0.0169          1      0.497      0.398\n",
      "        WAVETRAP_NOPOT          1          1     0.0556          1      0.199      0.139\n",
      "          WAVETRAP_POT          1          1          0          0          0          0\n",
      "                  XFMR          1          1     0.0417          1      0.497      0.348\n",
      "Speed: 1.7ms preprocess, 45.8ms inference, 0.0ms loss, 29.1ms postprocess per image\n",
      "Results saved to \u001b[1m/Users/enerinn/Developer/CS25-338-main/runs/detect/train92\u001b[0m\n",
      "0.12421161551548604\n"
     ]
    }
   ],
   "source": [
    "from ultralytics import YOLO\n",
    "\n",
    "# Load a pre-trained YOLO model\n",
    "model = YOLO(\"yolov8n.pt\")  # Use 'yolov8s', 'yolov8m', etc., for larger models\n",
    "\n",
    "# Train the model\n",
    "results = model.train(data=\"./data.yaml\", epochs=10, imgsz=640, device=device)\n",
    "\n",
    "\n",
    "metrics = model.val()\n",
    "print(metrics.box.map)  # mAP50-95"
   ]
  }
 ],
 "metadata": {
  "kernelspec": {
   "display_name": ".venv",
   "language": "python",
   "name": "python3"
  },
  "language_info": {
   "codemirror_mode": {
    "name": "ipython",
    "version": 3
   },
   "file_extension": ".py",
   "mimetype": "text/x-python",
   "name": "python",
   "nbconvert_exporter": "python",
   "pygments_lexer": "ipython3",
   "version": "3.12.6"
  }
 },
 "nbformat": 4,
 "nbformat_minor": 2
}
