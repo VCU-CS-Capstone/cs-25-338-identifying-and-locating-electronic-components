{
 "cells": [
  {
   "cell_type": "code",
   "execution_count": 4,
   "metadata": {},
   "outputs": [],
   "source": [
    "import torch\n",
    "import torch.nn as nn #related to neural networks\n",
    "import torch.optim as optim #optimizer\n",
    "from torch.utils.data import DataLoader, Dataset\n",
    "import torchvision\n",
    "import os\n",
    "import pandas as pd\n",
    "from torchvision.io import read_image\n",
    "from torchvision import transforms, models\n",
    "import matplotlib.pyplot as plt\n",
    "from torch.optim.lr_scheduler import StepLR\n",
    "import numpy as np\n",
    "import sys\n",
    "import timm\n",
    "import tqdm\n",
    "from PIL import Image\n",
    "import json\n",
    "\n",
    "import matplotlib.patches as patches\n",
    "import cv2\n"
   ]
  },
  {
   "cell_type": "code",
   "execution_count": 2,
   "metadata": {},
   "outputs": [
    {
     "name": "stdout",
     "output_type": "stream",
     "text": [
      "mps\n"
     ]
    }
   ],
   "source": [
    "device = torch.device(\"cpu\")\n",
    "if torch.cuda.is_available():\n",
    "    device = torch.device(\"cuda\")\n",
    "if torch.backends.mps.is_available():\n",
    "    device = torch.device(\"mps\")\n",
    "print(device)"
   ]
  },
  {
   "cell_type": "code",
   "execution_count": 7,
   "metadata": {},
   "outputs": [
    {
     "name": "stdout",
     "output_type": "stream",
     "text": [
      "Selected image: images/train/Screenshot 2024-10-10 185220.png\n",
      "Annotations for selected image:\n",
      "[{'class_id': 35, 'polygon': [(359.00012499999997, 292.00005899999996), (423.99969500000003, 292.00005899999996), (423.99969500000003, 356.999985), (359.00012499999997, 356.999985)]}]\n"
     ]
    },
    {
     "data": {
      "image/png": "[encoded data removed]",
      "text/plain": [
       "<Figure size 1200x800 with 1 Axes>"
      ]
     },
     "metadata": {},
     "output_type": "display_data"
    }
   ],
   "source": [
    "from glob import glob\n",
    "import yaml\n",
    "\n",
    "with open(\"data.yaml\", \"r\") as f:\n",
    "    data = yaml.safe_load(f)\n",
    "    \n",
    "# Define directories\n",
    "image_dir = \"images/train\"\n",
    "\n",
    "label_dir = \"labels/train\"\n",
    "\n",
    "# Get list of image files\n",
    "image_files = glob(os.path.join(image_dir, \"*.png\"))\n",
    "image_files.sort()\n",
    "\n",
    "# Load categories (if available)\n",
    "categories = [name for name in data[\"names\"]]\n",
    "\n",
    "# Select the 150th image (modify index as needed)\n",
    "x = 14\n",
    "selected_image_path = image_files[x]\n",
    "print(f\"Selected image: {selected_image_path}\")\n",
    "\n",
    "# Load the image\n",
    "image = cv2.imread(selected_image_path)\n",
    "image = cv2.cvtColor(image, cv2.COLOR_BGR2RGB)\n",
    "img_height, img_width, _ = image.shape\n",
    "\n",
    "# Load corresponding annotations\n",
    "label_filename = os.path.splitext(os.path.basename(selected_image_path))[0] + \".txt\"\n",
    "label_path = os.path.join(label_dir, label_filename)\n",
    "\n",
    "annotations = []\n",
    "if os.path.exists(label_path):\n",
    "    with open(label_path, \"r\") as f:\n",
    "        for line in f:\n",
    "            parts = line.strip().split()\n",
    "            if len(parts) < 1 or (len(parts) - 1) % 2 != 0:\n",
    "                continue  # Skip invalid lines (odd number of coordinates)\n",
    "\n",
    "            class_id = int(parts[0])\n",
    "            polygon_norm = list(map(float, parts[1:]))  # Get all normalized coordinates\n",
    "            \n",
    "            # Convert normalized coordinates to absolute\n",
    "            polygon_abs = [\n",
    "                (x * img_width, y * img_height) \n",
    "                for x, y in zip(polygon_norm[::2], polygon_norm[1::2])\n",
    "            ]\n",
    "            \n",
    "            annotations.append({\n",
    "                'class_id': class_id,\n",
    "                'polygon': polygon_abs\n",
    "            })\n",
    "\n",
    "print(\"Annotations for selected image:\")\n",
    "print(annotations)\n",
    "\n",
    "# Plot the image with polygons\n",
    "fig, ax = plt.subplots(1, figsize=(12, 8))\n",
    "ax.imshow(image)\n",
    "\n",
    "for ann in annotations:\n",
    "    polygon = ann['polygon']\n",
    "    class_id = ann['class_id']\n",
    "    label = categories[class_id] if categories else str(class_id)\n",
    "    \n",
    "    # Draw polygon\n",
    "    poly_patch = patches.Polygon(\n",
    "        polygon,\n",
    "        closed=True,\n",
    "        linewidth=2,\n",
    "        edgecolor='red',\n",
    "        facecolor='none'\n",
    "    )\n",
    "    ax.add_patch(poly_patch)\n",
    "    \n",
    "    # Add label at the top-left corner of the polygon's bounding box\n",
    "    polygon_np = np.array(polygon)\n",
    "    x_min, y_min = polygon_np.min(axis=0)\n",
    "    plt.text(\n",
    "        x_min, y_min - 5,\n",
    "        label,\n",
    "        color='red',\n",
    "        fontsize=12,\n",
    "        bbox=dict(facecolor='white', alpha=0.5, edgecolor='none')\n",
    "    )\n",
    "\n",
    "plt.show()"
   ]
  },
  {
   "cell_type": "markdown",
   "metadata": {},
   "source": [
    "# Create Circuit Diagram Dataset"
   ]
  },
  {
   "cell_type": "code",
   "execution_count": 5,
   "metadata": {},
   "outputs": [],
   "source": [
    "class CircuitDiagramDataset(Dataset):\n",
    "    def __init__(self, image_dir, label_dir, transform=None, img_size=224):\n",
    "        self.image_dir = image_dir\n",
    "        self.label_dir = label_dir\n",
    "        self.transform = transform\n",
    "        self.img_size = img_size\n",
    "        \n",
    "        # Get list of image files\n",
    "        self.image_files = [f for f in os.listdir(image_dir) \n",
    "                          if f.lower().endswith(('.png', '.jpg', '.jpeg'))]\n",
    "        \n",
    "    def __len__(self):\n",
    "        return len(self.image_files)\n",
    "    \n",
    "    def __getitem__(self, idx):\n",
    "        # Load image\n",
    "        img_name = self.image_files[idx]\n",
    "        img_path = os.path.join(self.image_dir, img_name)\n",
    "        image = Image.open(img_path).convert(\"RGB\")\n",
    "        original_width, original_height = image.size\n",
    "        \n",
    "        # Load corresponding YOLO annotations\n",
    "        label_name = os.path.splitext(img_name)[0] + \".txt\"\n",
    "        label_path = os.path.join(self.label_dir, label_name)\n",
    "        \n",
    "        boxes = []\n",
    "        labels = []\n",
    "        \n",
    "        if os.path.exists(label_path):\n",
    "            with open(label_path, 'r') as f:\n",
    "                for line in f:\n",
    "                    parts = line.strip().split()\n",
    "                    if len(parts) < 9:  # At least 1 class + 4 points (8 coordinates)\n",
    "                        continue\n",
    "                    \n",
    "                    # Parse YOLO polygon format\n",
    "                    class_id = int(parts[0])\n",
    "                    polygon_norm = list(map(float, parts[1:]))\n",
    "                    \n",
    "                    # Convert normalized polygon to absolute coordinates\n",
    "                    polygon_abs = [\n",
    "                        (x * original_width, y * original_height) \n",
    "                        for x, y in zip(polygon_norm[::2], polygon_norm[1::2])\n",
    "                    ]\n",
    "                    \n",
    "                    # Convert polygon to bounding box\n",
    "                    polygon_np = np.array(polygon_abs)\n",
    "                    x_min, y_min = polygon_np.min(axis=0)\n",
    "                    x_max, y_max = polygon_np.max(axis=0)\n",
    "                    \n",
    "                    # Convert to [x_min, y_min, x_max, y_max] format\n",
    "                    boxes.append([x_min, y_min, x_max, y_max])\n",
    "                    labels.append(class_id)\n",
    "\n",
    "        # Apply transformations\n",
    "        if self.transform:\n",
    "            image = self.transform(image)\n",
    "            \n",
    "        # Scale boxes to target image size\n",
    "        scale_x = self.img_size / original_width\n",
    "        scale_y = self.img_size / original_height\n",
    "        \n",
    "        boxes = torch.tensor(boxes, dtype=torch.float32)\n",
    "        if boxes.nelement() != 0:  # Check if boxes is not empty\n",
    "            boxes[:, 0::2] *= scale_x  # x coordinates\n",
    "            boxes[:, 1::2] *= scale_y  # y coordinates\n",
    "\n",
    "        labels = torch.tensor(labels, dtype=torch.int64)\n",
    "        \n",
    "        # Create target dictionary\n",
    "        target = {\n",
    "            \"boxes\": boxes,\n",
    "            \"labels\": labels,\n",
    "            \"image_id\": torch.tensor([idx])\n",
    "        }\n",
    "        \n",
    "        return image, target"
   ]
  },
  {
   "cell_type": "code",
   "execution_count": 10,
   "metadata": {},
   "outputs": [],
   "source": [
    "transform = transforms.Compose([\n",
    "    transforms.Resize((224, 224)),\n",
    "    transforms.ToTensor(),\n",
    "])\n",
    "\n",
    "dataset = CircuitDiagramDataset(\n",
    "    image_dir=\"images/train\",\n",
    "    label_dir=\"images/labels\",\n",
    "    transform=transform\n",
    ")\n",
    "\n",
    "dataloader = DataLoader(dataset, batch_size=4, shuffle=True)"
   ]
  },
  {
   "cell_type": "markdown",
   "metadata": {},
   "source": [
    "# Defining Model"
   ]
  },
  {
   "cell_type": "code",
   "execution_count": 9,
   "metadata": {},
   "outputs": [],
   "source": [
    "import torchvision\n",
    "from torchvision.models.detection import FasterRCNN\n",
    "from torchvision.models.detection.faster_rcnn import FastRCNNPredictor\n",
    "\n",
    "def get_model(num_classes=40):\n",
    "    \"\"\"\n",
    "    Create a Faster R-CNN model with a ResNet-50-FPN backbone\n",
    "    Args:\n",
    "        num_classes (int): Number of object classes (excluding background)\n",
    "    \"\"\"\n",
    "    # 1. Load pre-trained base model\n",
    "    model = torchvision.models.detection.fasterrcnn_resnet50_fpn(\n",
    "        weights='DEFAULT'  # Uses pre-trained weights\n",
    "    )\n",
    "    \n",
    "    # 2. Modify the classifier head\n",
    "    in_features = model.roi_heads.box_predictor.cls_score.in_features\n",
    "    \n",
    "    # Important: num_classes + 1 (for background class)\n",
    "    model.roi_heads.box_predictor = FastRCNNPredictor(in_features, num_classes + 1)\n",
    "    \n",
    "    return model"
   ]
  },
  {
   "cell_type": "code",
   "execution_count": 7,
   "metadata": {},
   "outputs": [],
   "source": [
    "from torchvision import transforms\n",
    "\n",
    "transform = transforms.Compose([\n",
    "    transforms.Resize((224, 224)),\n",
    "    transforms.ToTensor(),\n",
    "    transforms.Normalize(\n",
    "        mean=[0.485, 0.456, 0.406],  # ImageNet stats\n",
    "        std=[0.229, 0.224, 0.225]\n",
    "    )\n",
    "])"
   ]
  },
  {
   "cell_type": "markdown",
   "metadata": {},
   "source": [
    "# Training"
   ]
  },
  {
   "cell_type": "code",
   "execution_count": null,
   "metadata": {},
   "outputs": [],
   "source": [
    "\n",
    "\n",
    "# Initialize dataset and dataloaders\n",
    "train_dataset = CircuitDiagramDataset(\"images/train\", \"labels/train\", transform=transform)\n",
    "val_dataset = CircuitDiagramDataset(\"images/val\", \"labels/val\", transform=transform)\n",
    "\n",
    "train_loader = DataLoader(train_dataset, batch_size=4, shuffle=True, collate_fn=lambda x: tuple(zip(*x)))\n",
    "val_loader = DataLoader(val_dataset, batch_size=4, shuffle=False, collate_fn=lambda x: tuple(zip(*x)))\n",
    "\n",
    "# Initialize model\n",
    "num_classes = 40  # Adjust based on dataset\n",
    "model = get_model(num_classes)\n",
    "device = \"mps\"\n",
    "model.to(device)\n",
    "\n",
    "# Define optimizer and learning rate scheduler\n",
    "params = [p for p in model.parameters() if p.requires_grad]\n",
    "optimizer = torch.optim.AdamW(params, lr=1e-4, weight_decay=1e-4)\n",
    "lr_scheduler = torch.optim.lr_scheduler.StepLR(optimizer, step_size=5, gamma=0.5)\n",
    "\n",
    "# Training loop\n",
    "def train_model(model, train_loader, val_loader, device, num_epochs=10):\n",
    "    for epoch in range(num_epochs):\n",
    "        model.train()\n",
    "        total_loss = 0\n",
    "        for images, targets in train_loader:\n",
    "            images = list(img.to(device) for img in images)\n",
    "            targets = [{k: v.to(device) for k, v in t.items()} for t in targets]\n",
    "            \n",
    "            optimizer.zero_grad()\n",
    "            loss_dict = model(images, targets)\n",
    "            loss = sum(loss for loss in loss_dict.values())\n",
    "            loss.backward()\n",
    "            optimizer.step()\n",
    "            \n",
    "            total_loss += loss.item()\n",
    "        \n",
    "        # Validation\n",
    "        model.eval()\n",
    "        with torch.no_grad():\n",
    "            val_loss = 0\n",
    "            for images, targets in val_loader:\n",
    "                images = list(img.to(device) for img in images)\n",
    "                targets = [{k: v.to(device) for k, v in t.items()} for t in targets]\n",
    "                loss_dict = model(images, targets)\n",
    "                loss = sum(loss for loss in loss_dict.values())\n",
    "                val_loss += loss.item()\n",
    "        \n",
    "        lr_scheduler.step()\n",
    "        print(f\"Epoch {epoch+1}, Train Loss: {total_loss:.4f}, Val Loss: {val_loss:.4f}\")\n",
    "    \n",
    "    print(\"Training Complete\")\n",
    "\n",
    "train_model(model, train_loader, val_loader, device, num_epochs=10)\n"
   ]
  },
  {
   "cell_type": "code",
   "execution_count": null,
   "metadata": {},
   "outputs": [
    {
     "name": "stdout",
     "output_type": "stream",
     "text": [
      "New https://pypi.org/project/ultralytics/8.3.83 available 😃 Update with 'pip install -U ultralytics'\n",
      "Ultralytics 8.3.68 🚀 Python-3.12.3 torch-2.6.0+cu124 CUDA:0 (NVIDIA GeForce RTX 3060, 12288MiB)\n",
      "\u001b[34m\u001b[1mengine/trainer: \u001b[0mtask=detect, mode=train, model=yolov8n.pt, data=/home/enerinn/cs-25-338-identifying-and-locating-electronic-components/Model/data.yaml, epochs=20, time=None, patience=100, batch=16, imgsz=640, save=True, save_period=-1, cache=False, device=cuda, workers=4, project=None, name=train46, exist_ok=False, pretrained=True, optimizer=auto, verbose=True, seed=0, deterministic=True, single_cls=False, rect=False, cos_lr=False, close_mosaic=10, resume=False, amp=True, fraction=1.0, profile=False, freeze=None, multi_scale=False, overlap_mask=True, mask_ratio=4, dropout=0.0, val=True, split=val, save_json=False, save_hybrid=False, conf=None, iou=0.7, max_det=300, half=False, dnn=False, plots=True, source=None, vid_stride=1, stream_buffer=False, visualize=False, augment=False, agnostic_nms=False, classes=None, retina_masks=False, embed=None, show=False, save_frames=False, save_txt=False, save_conf=False, save_crop=False, show_labels=True, show_conf=True, show_boxes=True, line_width=None, format=torchscript, keras=False, optimize=False, int8=False, dynamic=False, simplify=True, opset=None, workspace=None, nms=False, lr0=0.01, lrf=0.01, momentum=0.937, weight_decay=0.0005, warmup_epochs=3.0, warmup_momentum=0.8, warmup_bias_lr=0.1, box=7.5, cls=0.5, dfl=1.5, pose=12.0, kobj=1.0, nbs=64, hsv_h=0.015, hsv_s=0.7, hsv_v=0.4, degrees=0.0, translate=0.1, scale=0.5, shear=0.0, perspective=0.0, flipud=0.0, fliplr=0.5, bgr=0.0, mosaic=1.0, mixup=0.0, copy_paste=0.0, copy_paste_mode=flip, auto_augment=randaugment, erasing=0.4, crop_fraction=1.0, cfg=None, tracker=botsort.yaml, save_dir=/home/enerinn/cs-25-338-identifying-and-locating-electronic-components/runs/detect/train46\n",
      "Overriding model.yaml nc=80 with nc=47\n",
      "\n",
      "                   from  n    params  module                                       arguments                     \n",
      "  0                  -1  1       464  ultralytics.nn.modules.conv.Conv             [3, 16, 3, 2]                 \n",
      "  1                  -1  1      4672  ultralytics.nn.modules.conv.Conv             [16, 32, 3, 2]                \n",
      "  2                  -1  1      7360  ultralytics.nn.modules.block.C2f             [32, 32, 1, True]             \n",
      "  3                  -1  1     18560  ultralytics.nn.modules.conv.Conv             [32, 64, 3, 2]                \n",
      "  4                  -1  2     49664  ultralytics.nn.modules.block.C2f             [64, 64, 2, True]             \n",
      "  5                  -1  1     73984  ultralytics.nn.modules.conv.Conv             [64, 128, 3, 2]               \n",
      "  6                  -1  2    197632  ultralytics.nn.modules.block.C2f             [128, 128, 2, True]           \n",
      "  7                  -1  1    295424  ultralytics.nn.modules.conv.Conv             [128, 256, 3, 2]              \n",
      "  8                  -1  1    460288  ultralytics.nn.modules.block.C2f             [256, 256, 1, True]           \n",
      "  9                  -1  1    164608  ultralytics.nn.modules.block.SPPF            [256, 256, 5]                 \n",
      " 10                  -1  1         0  torch.nn.modules.upsampling.Upsample         [None, 2, 'nearest']          \n",
      " 11             [-1, 6]  1         0  ultralytics.nn.modules.conv.Concat           [1]                           \n",
      " 12                  -1  1    148224  ultralytics.nn.modules.block.C2f             [384, 128, 1]                 \n",
      " 13                  -1  1         0  torch.nn.modules.upsampling.Upsample         [None, 2, 'nearest']          \n",
      " 14             [-1, 4]  1         0  ultralytics.nn.modules.conv.Concat           [1]                           \n",
      " 15                  -1  1     37248  ultralytics.nn.modules.block.C2f             [192, 64, 1]                  \n",
      " 16                  -1  1     36992  ultralytics.nn.modules.conv.Conv             [64, 64, 3, 2]                \n",
      " 17            [-1, 12]  1         0  ultralytics.nn.modules.conv.Concat           [1]                           \n",
      " 18                  -1  1    123648  ultralytics.nn.modules.block.C2f             [192, 128, 1]                 \n",
      " 19                  -1  1    147712  ultralytics.nn.modules.conv.Conv             [128, 128, 3, 2]              \n",
      " 20             [-1, 9]  1         0  ultralytics.nn.modules.conv.Concat           [1]                           \n",
      " 21                  -1  1    493056  ultralytics.nn.modules.block.C2f             [384, 256, 1]                 \n",
      " 22        [15, 18, 21]  1    760477  ultralytics.nn.modules.head.Detect           [47, [64, 128, 256]]          \n",
      "Model summary: 225 layers, 3,020,013 parameters, 3,019,997 gradients, 8.2 GFLOPs\n",
      "\n",
      "Transferred 319/355 items from pretrained weights\n",
      "Freezing layer 'model.22.dfl.conv.weight'\n",
      "\u001b[34m\u001b[1mAMP: \u001b[0mrunning Automatic Mixed Precision (AMP) checks...\n",
      "\u001b[34m\u001b[1mAMP: \u001b[0mchecks passed ✅\n"
     ]
    },
    {
     "name": "stderr",
     "output_type": "stream",
     "text": [
      "\u001b[34m\u001b[1mtrain: \u001b[0mScanning /home/enerinn/cs-25-338-identifying-and-locating-electronic-components/Model/labels/train.cache... 3162 images, 0 backgrounds, 0 corrupt: 100%|██████████| 3162/3162 [00:00<?, ?it/s]\n",
      "\u001b[34m\u001b[1mval: \u001b[0mScanning /home/enerinn/cs-25-338-identifying-and-locating-electronic-components/Model/labels/val.cache... 1054 images, 0 backgrounds, 0 corrupt: 100%|██████████| 1054/1054 [00:00<?, ?it/s]\n"
     ]
    },
    {
     "name": "stdout",
     "output_type": "stream",
     "text": [
      "Plotting labels to /home/enerinn/cs-25-338-identifying-and-locating-electronic-components/runs/detect/train46/labels.jpg... \n",
      "\u001b[34m\u001b[1moptimizer:\u001b[0m 'optimizer=auto' found, ignoring 'lr0=0.01' and 'momentum=0.937' and determining best 'optimizer', 'lr0' and 'momentum' automatically... \n",
      "\u001b[34m\u001b[1moptimizer:\u001b[0m AdamW(lr=0.000196, momentum=0.9) with parameter groups 57 weight(decay=0.0), 64 weight(decay=0.0005), 63 bias(decay=0.0)\n",
      "Image sizes 640 train, 640 val\n",
      "Using 4 dataloader workers\n",
      "Logging results to \u001b[1m/home/enerinn/cs-25-338-identifying-and-locating-electronic-components/runs/detect/train46\u001b[0m\n",
      "Starting training for 20 epochs...\n",
      "\n",
      "      Epoch    GPU_mem   box_loss   cls_loss   dfl_loss  Instances       Size\n"
     ]
    },
    {
     "name": "stderr",
     "output_type": "stream",
     "text": [
      "       1/20     0.436G      1.782      5.579      1.306         17        640: 100%|██████████| 198/198 [00:36<00:00,  5.48it/s]\n",
      "                 Class     Images  Instances      Box(P          R      mAP50  mAP50-95): 100%|██████████| 33/33 [00:10<00:00,  3.28it/s]"
     ]
    },
    {
     "name": "stdout",
     "output_type": "stream",
     "text": [
      "                   all       1054       1055      0.487      0.216      0.154      0.101\n"
     ]
    },
    {
     "name": "stderr",
     "output_type": "stream",
     "text": [
      "\n"
     ]
    },
    {
     "name": "stdout",
     "output_type": "stream",
     "text": [
      "\n",
      "      Epoch    GPU_mem   box_loss   cls_loss   dfl_loss  Instances       Size\n"
     ]
    },
    {
     "name": "stderr",
     "output_type": "stream",
     "text": [
      "       2/20      2.26G      1.531      4.043      1.185         13        640: 100%|██████████| 198/198 [00:28<00:00,  7.04it/s]\n",
      "                 Class     Images  Instances      Box(P          R      mAP50  mAP50-95): 100%|██████████| 33/33 [00:06<00:00,  4.74it/s]"
     ]
    },
    {
     "name": "stdout",
     "output_type": "stream",
     "text": [
      "                   all       1054       1055      0.504      0.475      0.446       0.29\n"
     ]
    },
    {
     "name": "stderr",
     "output_type": "stream",
     "text": [
      "\n"
     ]
    },
    {
     "name": "stdout",
     "output_type": "stream",
     "text": [
      "\n",
      "      Epoch    GPU_mem   box_loss   cls_loss   dfl_loss  Instances       Size\n"
     ]
    },
    {
     "name": "stderr",
     "output_type": "stream",
     "text": [
      "       3/20      2.25G      1.479      3.355      1.168         17        640: 100%|██████████| 198/198 [00:28<00:00,  6.95it/s]\n",
      "                 Class     Images  Instances      Box(P          R      mAP50  mAP50-95): 100%|██████████| 33/33 [00:06<00:00,  5.02it/s]\n"
     ]
    },
    {
     "name": "stdout",
     "output_type": "stream",
     "text": [
      "                   all       1054       1055      0.476      0.666      0.647      0.413\n",
      "\n",
      "      Epoch    GPU_mem   box_loss   cls_loss   dfl_loss  Instances       Size\n"
     ]
    },
    {
     "name": "stderr",
     "output_type": "stream",
     "text": [
      "       4/20      2.25G      1.431        2.8      1.151         12        640: 100%|██████████| 198/198 [00:27<00:00,  7.33it/s]\n",
      "                 Class     Images  Instances      Box(P          R      mAP50  mAP50-95): 100%|██████████| 33/33 [00:07<00:00,  4.71it/s]\n"
     ]
    },
    {
     "name": "stdout",
     "output_type": "stream",
     "text": [
      "                   all       1054       1055      0.717      0.771      0.811       0.51\n",
      "\n",
      "      Epoch    GPU_mem   box_loss   cls_loss   dfl_loss  Instances       Size\n"
     ]
    },
    {
     "name": "stderr",
     "output_type": "stream",
     "text": [
      "       5/20      2.26G      1.387      2.395       1.13         14        640: 100%|██████████| 198/198 [00:27<00:00,  7.25it/s]\n",
      "                 Class     Images  Instances      Box(P          R      mAP50  mAP50-95): 100%|██████████| 33/33 [00:06<00:00,  5.11it/s]\n"
     ]
    },
    {
     "name": "stdout",
     "output_type": "stream",
     "text": [
      "                   all       1054       1055      0.792      0.844      0.883       0.58\n",
      "\n",
      "      Epoch    GPU_mem   box_loss   cls_loss   dfl_loss  Instances       Size\n"
     ]
    },
    {
     "name": "stderr",
     "output_type": "stream",
     "text": [
      "       6/20      2.25G      1.389      2.131      1.122         19        640: 100%|██████████| 198/198 [00:27<00:00,  7.19it/s]\n",
      "                 Class     Images  Instances      Box(P          R      mAP50  mAP50-95): 100%|██████████| 33/33 [00:06<00:00,  4.78it/s]"
     ]
    },
    {
     "name": "stdout",
     "output_type": "stream",
     "text": [
      "                   all       1054       1055      0.879      0.885      0.947      0.616\n"
     ]
    },
    {
     "name": "stderr",
     "output_type": "stream",
     "text": [
      "\n"
     ]
    },
    {
     "name": "stdout",
     "output_type": "stream",
     "text": [
      "\n",
      "      Epoch    GPU_mem   box_loss   cls_loss   dfl_loss  Instances       Size\n"
     ]
    },
    {
     "name": "stderr",
     "output_type": "stream",
     "text": [
      "       7/20      2.26G      1.349      1.912      1.113         12        640: 100%|██████████| 198/198 [00:29<00:00,  6.76it/s]\n",
      "                 Class     Images  Instances      Box(P          R      mAP50  mAP50-95): 100%|██████████| 33/33 [00:07<00:00,  4.58it/s]"
     ]
    },
    {
     "name": "stdout",
     "output_type": "stream",
     "text": [
      "                   all       1054       1055      0.886      0.864      0.944      0.622\n"
     ]
    },
    {
     "name": "stderr",
     "output_type": "stream",
     "text": [
      "\n"
     ]
    },
    {
     "name": "stdout",
     "output_type": "stream",
     "text": [
      "\n",
      "      Epoch    GPU_mem   box_loss   cls_loss   dfl_loss  Instances       Size\n"
     ]
    },
    {
     "name": "stderr",
     "output_type": "stream",
     "text": [
      "       8/20      2.25G      1.337      1.789      1.104         22        640: 100%|██████████| 198/198 [00:29<00:00,  6.80it/s]\n",
      "                 Class     Images  Instances      Box(P          R      mAP50  mAP50-95): 100%|██████████| 33/33 [00:06<00:00,  4.72it/s]\n"
     ]
    },
    {
     "name": "stdout",
     "output_type": "stream",
     "text": [
      "                   all       1054       1055      0.908      0.939      0.968      0.644\n",
      "\n",
      "      Epoch    GPU_mem   box_loss   cls_loss   dfl_loss  Instances       Size\n"
     ]
    },
    {
     "name": "stderr",
     "output_type": "stream",
     "text": [
      "       9/20      2.26G      1.315      1.643      1.101         18        640: 100%|██████████| 198/198 [00:29<00:00,  6.73it/s]\n",
      "                 Class     Images  Instances      Box(P          R      mAP50  mAP50-95): 100%|██████████| 33/33 [00:07<00:00,  4.67it/s]"
     ]
    },
    {
     "name": "stdout",
     "output_type": "stream",
     "text": [
      "                   all       1054       1055      0.941      0.956       0.98      0.654\n"
     ]
    },
    {
     "name": "stderr",
     "output_type": "stream",
     "text": [
      "\n"
     ]
    },
    {
     "name": "stdout",
     "output_type": "stream",
     "text": [
      "\n",
      "      Epoch    GPU_mem   box_loss   cls_loss   dfl_loss  Instances       Size\n"
     ]
    },
    {
     "name": "stderr",
     "output_type": "stream",
     "text": [
      "      10/20      2.25G       1.31      1.559        1.1         18        640: 100%|██████████| 198/198 [00:29<00:00,  6.73it/s]\n",
      "                 Class     Images  Instances      Box(P          R      mAP50  mAP50-95): 100%|██████████| 33/33 [00:07<00:00,  4.46it/s]"
     ]
    },
    {
     "name": "stdout",
     "output_type": "stream",
     "text": [
      "                   all       1054       1055      0.931       0.96      0.982      0.665\n"
     ]
    },
    {
     "name": "stderr",
     "output_type": "stream",
     "text": [
      "\n"
     ]
    },
    {
     "name": "stdout",
     "output_type": "stream",
     "text": [
      "Closing dataloader mosaic\n",
      "\n",
      "      Epoch    GPU_mem   box_loss   cls_loss   dfl_loss  Instances       Size\n"
     ]
    },
    {
     "name": "stderr",
     "output_type": "stream",
     "text": [
      "      11/20      2.26G      1.219      1.422      1.094         10        640: 100%|██████████| 198/198 [00:29<00:00,  6.73it/s]\n",
      "                 Class     Images  Instances      Box(P          R      mAP50  mAP50-95): 100%|██████████| 33/33 [00:07<00:00,  4.50it/s]"
     ]
    },
    {
     "name": "stdout",
     "output_type": "stream",
     "text": [
      "                   all       1054       1055      0.937      0.952      0.976      0.654\n"
     ]
    },
    {
     "name": "stderr",
     "output_type": "stream",
     "text": [
      "\n"
     ]
    },
    {
     "name": "stdout",
     "output_type": "stream",
     "text": [
      "\n",
      "      Epoch    GPU_mem   box_loss   cls_loss   dfl_loss  Instances       Size\n"
     ]
    },
    {
     "name": "stderr",
     "output_type": "stream",
     "text": [
      "      12/20      2.25G      1.204      1.318      1.089         10        640: 100%|██████████| 198/198 [00:29<00:00,  6.81it/s]\n",
      "                 Class     Images  Instances      Box(P          R      mAP50  mAP50-95): 100%|██████████| 33/33 [00:07<00:00,  4.40it/s]"
     ]
    },
    {
     "name": "stdout",
     "output_type": "stream",
     "text": [
      "                   all       1054       1055      0.945      0.965      0.981      0.671\n"
     ]
    },
    {
     "name": "stderr",
     "output_type": "stream",
     "text": [
      "\n"
     ]
    },
    {
     "name": "stdout",
     "output_type": "stream",
     "text": [
      "\n",
      "      Epoch    GPU_mem   box_loss   cls_loss   dfl_loss  Instances       Size\n"
     ]
    },
    {
     "name": "stderr",
     "output_type": "stream",
     "text": [
      "      13/20      2.26G      1.191      1.235      1.082         10        640: 100%|██████████| 198/198 [00:30<00:00,  6.39it/s]\n",
      "                 Class     Images  Instances      Box(P          R      mAP50  mAP50-95): 100%|██████████| 33/33 [00:08<00:00,  4.07it/s]\n"
     ]
    },
    {
     "name": "stdout",
     "output_type": "stream",
     "text": [
      "                   all       1054       1055      0.957      0.976      0.987      0.664\n",
      "\n",
      "      Epoch    GPU_mem   box_loss   cls_loss   dfl_loss  Instances       Size\n"
     ]
    },
    {
     "name": "stderr",
     "output_type": "stream",
     "text": [
      "      14/20      2.25G      1.187      1.188      1.076         10        640: 100%|██████████| 198/198 [00:31<00:00,  6.37it/s]\n",
      "                 Class     Images  Instances      Box(P          R      mAP50  mAP50-95): 100%|██████████| 33/33 [00:07<00:00,  4.60it/s]"
     ]
    },
    {
     "name": "stdout",
     "output_type": "stream",
     "text": [
      "                   all       1054       1055      0.953      0.964      0.979      0.669\n"
     ]
    },
    {
     "name": "stderr",
     "output_type": "stream",
     "text": [
      "\n"
     ]
    },
    {
     "name": "stdout",
     "output_type": "stream",
     "text": [
      "\n",
      "      Epoch    GPU_mem   box_loss   cls_loss   dfl_loss  Instances       Size\n"
     ]
    },
    {
     "name": "stderr",
     "output_type": "stream",
     "text": [
      "      15/20      2.26G      1.188      1.145      1.073         10        640: 100%|██████████| 198/198 [00:28<00:00,  6.85it/s]\n",
      "                 Class     Images  Instances      Box(P          R      mAP50  mAP50-95): 100%|██████████| 33/33 [00:06<00:00,  4.75it/s]\n"
     ]
    },
    {
     "name": "stdout",
     "output_type": "stream",
     "text": [
      "                   all       1054       1055      0.968      0.971      0.988      0.676\n",
      "\n",
      "      Epoch    GPU_mem   box_loss   cls_loss   dfl_loss  Instances       Size\n"
     ]
    },
    {
     "name": "stderr",
     "output_type": "stream",
     "text": [
      "      16/20      2.25G      1.149      1.094      1.064         10        640: 100%|██████████| 198/198 [00:28<00:00,  6.87it/s]\n",
      "                 Class     Images  Instances      Box(P          R      mAP50  mAP50-95): 100%|██████████| 33/33 [00:06<00:00,  4.75it/s]\n"
     ]
    },
    {
     "name": "stdout",
     "output_type": "stream",
     "text": [
      "                   all       1054       1055      0.969       0.97      0.985      0.674\n",
      "\n",
      "      Epoch    GPU_mem   box_loss   cls_loss   dfl_loss  Instances       Size\n"
     ]
    },
    {
     "name": "stderr",
     "output_type": "stream",
     "text": [
      "      17/20      2.26G      1.157       1.08      1.061         10        640: 100%|██████████| 198/198 [00:28<00:00,  6.89it/s]\n",
      "                 Class     Images  Instances      Box(P          R      mAP50  mAP50-95): 100%|██████████| 33/33 [00:06<00:00,  4.73it/s]\n"
     ]
    },
    {
     "name": "stdout",
     "output_type": "stream",
     "text": [
      "                   all       1054       1055      0.957      0.985      0.987      0.685\n",
      "\n",
      "      Epoch    GPU_mem   box_loss   cls_loss   dfl_loss  Instances       Size\n"
     ]
    },
    {
     "name": "stderr",
     "output_type": "stream",
     "text": [
      "      18/20      2.25G      1.151      1.043      1.063         10        640: 100%|██████████| 198/198 [00:29<00:00,  6.75it/s]\n",
      "                 Class     Images  Instances      Box(P          R      mAP50  mAP50-95): 100%|██████████| 33/33 [00:06<00:00,  4.75it/s]\n"
     ]
    },
    {
     "name": "stdout",
     "output_type": "stream",
     "text": [
      "                   all       1054       1055      0.959      0.981      0.986      0.683\n",
      "\n",
      "      Epoch    GPU_mem   box_loss   cls_loss   dfl_loss  Instances       Size\n"
     ]
    },
    {
     "name": "stderr",
     "output_type": "stream",
     "text": [
      "      19/20      2.26G      1.128      1.025      1.052         10        640: 100%|██████████| 198/198 [00:29<00:00,  6.76it/s]\n",
      "                 Class     Images  Instances      Box(P          R      mAP50  mAP50-95): 100%|██████████| 33/33 [00:06<00:00,  4.73it/s]\n"
     ]
    },
    {
     "name": "stdout",
     "output_type": "stream",
     "text": [
      "                   all       1054       1055      0.971      0.983      0.989      0.685\n",
      "\n",
      "      Epoch    GPU_mem   box_loss   cls_loss   dfl_loss  Instances       Size\n"
     ]
    },
    {
     "name": "stderr",
     "output_type": "stream",
     "text": [
      "      20/20      2.25G      1.128      1.015       1.05         10        640: 100%|██████████| 198/198 [00:28<00:00,  6.85it/s]\n",
      "                 Class     Images  Instances      Box(P          R      mAP50  mAP50-95): 100%|██████████| 33/33 [00:07<00:00,  4.70it/s]\n"
     ]
    },
    {
     "name": "stdout",
     "output_type": "stream",
     "text": [
      "                   all       1054       1055      0.968      0.986       0.99      0.688\n",
      "\n",
      "20 epochs completed in 0.206 hours.\n",
      "Optimizer stripped from /home/enerinn/cs-25-338-identifying-and-locating-electronic-components/runs/detect/train46/weights/last.pt, 6.3MB\n",
      "Optimizer stripped from /home/enerinn/cs-25-338-identifying-and-locating-electronic-components/runs/detect/train46/weights/best.pt, 6.3MB\n",
      "\n",
      "Validating /home/enerinn/cs-25-338-identifying-and-locating-electronic-components/runs/detect/train46/weights/best.pt...\n",
      "Ultralytics 8.3.68 🚀 Python-3.12.3 torch-2.6.0+cu124 CUDA:0 (NVIDIA GeForce RTX 3060, 12288MiB)\n",
      "Model summary (fused): 168 layers, 3,014,813 parameters, 0 gradients, 8.1 GFLOPs\n"
     ]
    },
    {
     "name": "stderr",
     "output_type": "stream",
     "text": [
      "                 Class     Images  Instances      Box(P          R      mAP50  mAP50-95): 100%|██████████| 33/33 [00:09<00:00,  3.61it/s]\n"
     ]
    },
    {
     "name": "stdout",
     "output_type": "stream",
     "text": [
      "                   all       1054       1055      0.968      0.986       0.99      0.688\n",
      "                  25FP          7          7       0.96          1      0.995      0.721\n",
      "                  30FP          7          7      0.969          1      0.995      0.756\n",
      "                  35FP          7          7       0.96          1      0.995      0.824\n",
      "            38BRKR_ATT         12         12      0.969          1      0.995       0.81\n",
      "                  40FP          6          6      0.661          1      0.995       0.87\n",
      "                  45FP          7          7      0.951          1      0.995      0.898\n",
      "                50FPUP         26         26      0.985          1      0.995      0.833\n",
      "                AIRGAP         26         26          1      0.973      0.995      0.622\n",
      "                 ARROW         26         26      0.986          1      0.995      0.629\n",
      "              AUTOXFMR         26         26      0.989          1      0.995      0.822\n",
      "              BRKR_ATT         28         28      0.985          1      0.995      0.664\n",
      "                   CAP         23         23      0.991          1      0.995      0.572\n",
      "                 CKTSW         23         23       0.99          1      0.995      0.622\n",
      "                CONNPT         14         14      0.898          1      0.995      0.656\n",
      "                    CT         28         28       0.99          1      0.995      0.708\n",
      "                CTASSY         25         25      0.985          1      0.995      0.748\n",
      "                   DDE         26         26      0.991          1      0.995      0.724\n",
      "               DIPPOLE         28         28      0.988          1      0.995      0.754\n",
      "                 FRGNP          7          7      0.955          1      0.995      0.661\n",
      "                FUCLSP         25         25       0.99          1      0.995      0.687\n",
      "               FUCOMGO         27         27      0.998          1      0.995      0.633\n",
      "                   GEN          7          7       0.75          1      0.964      0.773\n",
      "                  GEN1         26         26      0.986          1      0.995      0.795\n",
      "                   GND         24         24          1      0.997      0.995      0.462\n",
      "                 GNDSW         26         26      0.991          1      0.995      0.676\n",
      "                  GOBS         24         24      0.985          1      0.995      0.871\n",
      "                JUMPER         28         28      0.994          1      0.995      0.526\n",
      "                   LDE         20         20      0.986          1      0.995      0.493\n",
      "              LIGHTARR         26         26          1      0.999      0.995      0.661\n",
      "               LTERMLB         26         26      0.987          1      0.995      0.678\n",
      "              LTERMNLB         28         28      0.987          1      0.995      0.591\n",
      "             Meter_Dev         28         29      0.982      0.966      0.967      0.657\n",
      "                  MOCS         26         26          1      0.937      0.995       0.56\n",
      "                   MOS         25         25      0.961          1      0.986      0.497\n",
      "               POT_DEV         28         28      0.986          1      0.995      0.759\n",
      "                PTXFMR         24         24      0.948      0.958      0.943      0.612\n",
      "                   REG         28         28      0.989          1      0.995      0.741\n",
      "                   SBD         28         28      0.918      0.798      0.945      0.402\n",
      "                   SEC         25         25      0.989          1      0.995      0.728\n",
      "                   SPD         28         28      0.961      0.872      0.949      0.338\n",
      "              STA_SERV         24         24      0.986          1      0.995      0.759\n",
      "               SWFUCOM         26         26      0.988          1      0.995      0.629\n",
      "                  TPGO         24         24          1      0.857      0.992      0.552\n",
      "              WAVETRAP         27         27      0.987          1      0.995      0.848\n",
      "        WAVETRAP_NOPOT         24         24      0.988          1      0.995      0.877\n",
      "          WAVETRAP_POT         26         26      0.986          1      0.995      0.874\n",
      "                  XFMR         24         24      0.985          1      0.995      0.777\n",
      "Speed: 0.2ms preprocess, 1.7ms inference, 0.0ms loss, 1.6ms postprocess per image\n",
      "Results saved to \u001b[1m/home/enerinn/cs-25-338-identifying-and-locating-electronic-components/runs/detect/train46\u001b[0m\n",
      "Ultralytics 8.3.68 🚀 Python-3.12.3 torch-2.6.0+cu124 CUDA:0 (NVIDIA GeForce RTX 3060, 12288MiB)\n",
      "Model summary (fused): 168 layers, 3,014,813 parameters, 0 gradients, 8.1 GFLOPs\n"
     ]
    },
    {
     "name": "stderr",
     "output_type": "stream",
     "text": [
      "\u001b[34m\u001b[1mval: \u001b[0mScanning /home/enerinn/cs-25-338-identifying-and-locating-electronic-components/Model/labels/val.cache... 1054 images, 0 backgrounds, 0 corrupt: 100%|██████████| 1054/1054 [00:00<?, ?it/s]\n",
      "                 Class     Images  Instances      Box(P          R      mAP50  mAP50-95): 100%|██████████| 66/66 [00:13<00:00,  5.00it/s]\n"
     ]
    },
    {
     "name": "stdout",
     "output_type": "stream",
     "text": [
      "                   all       1054       1055      0.968      0.987       0.99      0.689\n",
      "                  25FP          7          7      0.959          1      0.995      0.714\n",
      "                  30FP          7          7      0.968          1      0.995      0.777\n",
      "                  35FP          7          7      0.959          1      0.995      0.824\n",
      "            38BRKR_ATT         12         12      0.968          1      0.995       0.81\n",
      "                  40FP          6          6       0.66          1      0.995       0.87\n",
      "                  45FP          7          7       0.95          1      0.995      0.898\n",
      "                50FPUP         26         26      0.985          1      0.995      0.831\n",
      "                AIRGAP         26         26          1      0.974      0.995      0.627\n",
      "                 ARROW         26         26      0.986          1      0.995      0.633\n",
      "              AUTOXFMR         26         26      0.989          1      0.995      0.824\n",
      "              BRKR_ATT         28         28      0.985          1      0.995      0.668\n",
      "                   CAP         23         23      0.991          1      0.995      0.566\n",
      "                 CKTSW         23         23      0.989          1      0.995      0.626\n",
      "                CONNPT         14         14      0.897          1      0.995      0.648\n",
      "                    CT         28         28       0.99          1      0.995      0.708\n",
      "                CTASSY         25         25      0.985          1      0.995      0.755\n",
      "                   DDE         26         26      0.991          1      0.995      0.729\n",
      "               DIPPOLE         28         28      0.988          1      0.995      0.753\n",
      "                 FRGNP          7          7      0.955          1      0.995      0.661\n",
      "                FUCLSP         25         25       0.99          1      0.995      0.686\n",
      "               FUCOMGO         27         27      0.998          1      0.995      0.628\n",
      "                   GEN          7          7      0.731          1      0.964      0.751\n",
      "                  GEN1         26         26      0.986          1      0.995      0.784\n",
      "                   GND         24         24          1      0.998      0.995      0.461\n",
      "                 GNDSW         26         26      0.991          1      0.995      0.679\n",
      "                  GOBS         24         24      0.985          1      0.995      0.874\n",
      "                JUMPER         28         28      0.993          1      0.995      0.524\n",
      "                   LDE         20         20      0.986          1      0.995      0.496\n",
      "              LIGHTARR         26         26          1      0.999      0.995      0.665\n",
      "               LTERMLB         26         26      0.987          1      0.995      0.669\n",
      "              LTERMNLB         28         28      0.987          1      0.995      0.587\n",
      "             Meter_Dev         28         29      0.982      0.966      0.967      0.665\n",
      "                  MOCS         26         26          1      0.938      0.995       0.56\n",
      "                   MOS         25         25       0.96          1      0.984      0.508\n",
      "               POT_DEV         28         28      0.985          1      0.995      0.767\n",
      "                PTXFMR         24         24      0.948      0.958      0.943        0.6\n",
      "                   REG         28         28      0.989          1      0.995      0.739\n",
      "                   SBD         28         28      0.918      0.798      0.945      0.409\n",
      "                   SEC         25         25      0.988          1      0.995      0.753\n",
      "                   SPD         28         28      0.961      0.873      0.949      0.342\n",
      "              STA_SERV         24         24      0.986          1      0.995      0.765\n",
      "               SWFUCOM         26         26      0.988          1      0.995      0.634\n",
      "                  TPGO         24         24          1      0.871      0.992      0.546\n",
      "              WAVETRAP         27         27      0.987          1      0.995      0.848\n",
      "        WAVETRAP_NOPOT         24         24      0.988          1      0.995       0.88\n",
      "          WAVETRAP_POT         26         26      0.986          1      0.995      0.874\n",
      "                  XFMR         24         24      0.985          1      0.995       0.78\n",
      "Speed: 0.2ms preprocess, 6.8ms inference, 0.0ms loss, 1.3ms postprocess per image\n",
      "Results saved to \u001b[1m/home/enerinn/cs-25-338-identifying-and-locating-electronic-components/runs/detect/train462\u001b[0m\n"
     ]
    }
   ],
   "source": [
    "import torch\n",
    "from ultralytics import YOLO\n",
    "\n",
    "torch.backends.cudnn.benchmark = True  # Auto-tune CUDA performance\n",
    "\n",
    "model = YOLO(\"yolov8n.pt\")  # Use a well-optimized YOLO model\n",
    "\n",
    "results = model.train(\n",
    "    data=\"/home/enerinn/cs-25-338-identifying-and-locating-electronic-components/Model/data.yaml\",\n",
    "    epochs=20,\n",
    "    batch=16,  # Adjust based on VRAM\n",
    "    device=\"cuda\",\n",
    "    workers=4,\n",
    "    amp=True,  # Mixed precision for Tensor Core speedup\n",
    "    imgsz=640  # Smaller image size speeds up training\n",
    ")\n",
    "\n",
    "\n",
    "metrics = model.val()\n"
   ]
  }
 ],
 "metadata": {
  "kernelspec": {
   "display_name": ".venv",
   "language": "python",
   "name": "python3"
  },
  "language_info": {
   "codemirror_mode": {
    "name": "ipython",
    "version": 3
   },
   "file_extension": ".py",
   "mimetype": "text/x-python",
   "name": "python",
   "nbconvert_exporter": "python",
   "pygments_lexer": "ipython3",
   "version": "3.12.6"
  }
 },
 "nbformat": 4,
 "nbformat_minor": 2
}
